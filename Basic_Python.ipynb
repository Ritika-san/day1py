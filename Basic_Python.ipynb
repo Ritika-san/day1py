{
  "nbformat": 4,
  "nbformat_minor": 0,
  "metadata": {
    "colab": {
      "provenance": [],
      "authorship_tag": "ABX9TyPYgwR/Rslg0Z7PJhqd2JHy",
      "include_colab_link": true
    },
    "kernelspec": {
      "name": "python3",
      "display_name": "Python 3"
    },
    "language_info": {
      "name": "python"
    }
  },
  "cells": [
    {
      "cell_type": "markdown",
      "metadata": {
        "id": "view-in-github",
        "colab_type": "text"
      },
      "source": [
        "<a href=\"https://colab.research.google.com/github/Ritika-san/day1py/blob/main/Basic_Python.ipynb\" target=\"_parent\"><img src=\"https://colab.research.google.com/assets/colab-badge.svg\" alt=\"Open In Colab\"/></a>"
      ]
    },
    {
      "cell_type": "code",
      "execution_count": 32,
      "metadata": {
        "colab": {
          "base_uri": "https://localhost:8080/"
        },
        "id": "b8TnIbj2OW__",
        "outputId": "d8c209cd-d53a-4708-def2-ab2bc95d15e4"
      },
      "outputs": [
        {
          "output_type": "stream",
          "name": "stdout",
          "text": [
            "Python, be good with me\n"
          ]
        }
      ],
      "source": [
        "print (\"Python, be good with me\")"
      ]
    },
    {
      "cell_type": "code",
      "source": [
        "#comment\n"
      ],
      "metadata": {
        "id": "aymcUoFUP3wt"
      },
      "execution_count": 33,
      "outputs": []
    },
    {
      "cell_type": "code",
      "source": [
        "print (\"hello\")"
      ],
      "metadata": {
        "colab": {
          "base_uri": "https://localhost:8080/"
        },
        "id": "bngf_HOtRcOl",
        "outputId": "3ea8632e-c1ec-45b2-fe36-d97ab9366cff"
      },
      "execution_count": 34,
      "outputs": [
        {
          "output_type": "stream",
          "name": "stdout",
          "text": [
            "hello\n"
          ]
        }
      ]
    },
    {
      "cell_type": "code",
      "source": [
        "a = 2"
      ],
      "metadata": {
        "id": "F6TpiQBsRtRm"
      },
      "execution_count": 35,
      "outputs": []
    },
    {
      "cell_type": "code",
      "source": [
        "a"
      ],
      "metadata": {
        "colab": {
          "base_uri": "https://localhost:8080/"
        },
        "id": "THDE_2cLS4N2",
        "outputId": "5b45d83d-6d39-4cc8-e75d-e46bb71b0cfc"
      },
      "execution_count": 36,
      "outputs": [
        {
          "output_type": "execute_result",
          "data": {
            "text/plain": [
              "2"
            ]
          },
          "metadata": {},
          "execution_count": 36
        }
      ]
    },
    {
      "cell_type": "code",
      "source": [
        "type (a)"
      ],
      "metadata": {
        "colab": {
          "base_uri": "https://localhost:8080/"
        },
        "id": "zq0Fca7yS44T",
        "outputId": "d050efc2-3f92-463e-bbeb-cd184f08e18f"
      },
      "execution_count": 37,
      "outputs": [
        {
          "output_type": "execute_result",
          "data": {
            "text/plain": [
              "int"
            ]
          },
          "metadata": {},
          "execution_count": 37
        }
      ]
    },
    {
      "cell_type": "code",
      "source": [
        "b = 3.00\n",
        "b"
      ],
      "metadata": {
        "colab": {
          "base_uri": "https://localhost:8080/"
        },
        "id": "a4lzZBE0TXQW",
        "outputId": "dbb23034-7249-4f2e-9af7-05915f08ce7a"
      },
      "execution_count": 38,
      "outputs": [
        {
          "output_type": "execute_result",
          "data": {
            "text/plain": [
              "3.0"
            ]
          },
          "metadata": {},
          "execution_count": 38
        }
      ]
    },
    {
      "cell_type": "code",
      "source": [
        "type (b)"
      ],
      "metadata": {
        "colab": {
          "base_uri": "https://localhost:8080/"
        },
        "id": "H28LZQ7KTcgL",
        "outputId": "27a150c6-89be-441f-a90c-45fe8e3fc6b1"
      },
      "execution_count": 39,
      "outputs": [
        {
          "output_type": "execute_result",
          "data": {
            "text/plain": [
              "float"
            ]
          },
          "metadata": {},
          "execution_count": 39
        }
      ]
    },
    {
      "cell_type": "code",
      "source": [
        "c = \"rit\"\n",
        "type (c)"
      ],
      "metadata": {
        "colab": {
          "base_uri": "https://localhost:8080/"
        },
        "id": "lTUW0UoxTedB",
        "outputId": "91921998-cc2d-4f5f-a278-0f83fe239aa0"
      },
      "execution_count": 40,
      "outputs": [
        {
          "output_type": "execute_result",
          "data": {
            "text/plain": [
              "str"
            ]
          },
          "metadata": {},
          "execution_count": 40
        }
      ]
    },
    {
      "cell_type": "code",
      "source": [
        "d = True\n",
        "d"
      ],
      "metadata": {
        "colab": {
          "base_uri": "https://localhost:8080/"
        },
        "id": "negu2oK4Tjwe",
        "outputId": "be0a5e3a-21e7-4f36-d5db-b2b8512a76fb"
      },
      "execution_count": 41,
      "outputs": [
        {
          "output_type": "execute_result",
          "data": {
            "text/plain": [
              "True"
            ]
          },
          "metadata": {},
          "execution_count": 41
        }
      ]
    },
    {
      "cell_type": "code",
      "source": [
        "type (d)"
      ],
      "metadata": {
        "colab": {
          "base_uri": "https://localhost:8080/"
        },
        "id": "r8egRNJgToYn",
        "outputId": "71e7aab4-53c5-4dcd-91fd-18c339e0592c"
      },
      "execution_count": 42,
      "outputs": [
        {
          "output_type": "execute_result",
          "data": {
            "text/plain": [
              "bool"
            ]
          },
          "metadata": {},
          "execution_count": 42
        }
      ]
    },
    {
      "cell_type": "code",
      "source": [
        "6 + 5"
      ],
      "metadata": {
        "colab": {
          "base_uri": "https://localhost:8080/"
        },
        "id": "_PhTcZeATqbQ",
        "outputId": "b5105ca0-d199-40ff-ed48-7c9e10e21a3e"
      },
      "execution_count": 43,
      "outputs": [
        {
          "output_type": "execute_result",
          "data": {
            "text/plain": [
              "11"
            ]
          },
          "metadata": {},
          "execution_count": 43
        }
      ]
    },
    {
      "cell_type": "code",
      "source": [
        "20 - 5"
      ],
      "metadata": {
        "colab": {
          "base_uri": "https://localhost:8080/"
        },
        "id": "EoH3rU7zaA4k",
        "outputId": "455091ee-0adb-4670-8c78-983cba4c8672"
      },
      "execution_count": 44,
      "outputs": [
        {
          "output_type": "execute_result",
          "data": {
            "text/plain": [
              "15"
            ]
          },
          "metadata": {},
          "execution_count": 44
        }
      ]
    },
    {
      "cell_type": "code",
      "source": [
        "60/10"
      ],
      "metadata": {
        "colab": {
          "base_uri": "https://localhost:8080/"
        },
        "id": "p3U8Cz3TaKdI",
        "outputId": "132e21a2-9f63-4cbf-db6e-68ad38ff1caa"
      },
      "execution_count": 45,
      "outputs": [
        {
          "output_type": "execute_result",
          "data": {
            "text/plain": [
              "6.0"
            ]
          },
          "metadata": {},
          "execution_count": 45
        }
      ]
    },
    {
      "cell_type": "code",
      "source": [
        "60*20"
      ],
      "metadata": {
        "colab": {
          "base_uri": "https://localhost:8080/"
        },
        "id": "xXqsCZEeaLwt",
        "outputId": "22b8a90d-9828-4e7d-8d80-e322a4e150d0"
      },
      "execution_count": 46,
      "outputs": [
        {
          "output_type": "execute_result",
          "data": {
            "text/plain": [
              "1200"
            ]
          },
          "metadata": {},
          "execution_count": 46
        }
      ]
    },
    {
      "cell_type": "code",
      "source": [
        "import math"
      ],
      "metadata": {
        "id": "qA0uh5SYaNfu"
      },
      "execution_count": 47,
      "outputs": []
    },
    {
      "cell_type": "code",
      "source": [
        "math.sqrt (64)"
      ],
      "metadata": {
        "id": "wXcu2jowbqlE",
        "outputId": "b0c6dac6-0075-49d2-fff0-f177969e48cc",
        "colab": {
          "base_uri": "https://localhost:8080/"
        }
      },
      "execution_count": 48,
      "outputs": [
        {
          "output_type": "execute_result",
          "data": {
            "text/plain": [
              "8.0"
            ]
          },
          "metadata": {},
          "execution_count": 48
        }
      ]
    },
    {
      "cell_type": "code",
      "source": [
        "8 == 8"
      ],
      "metadata": {
        "id": "gPr4aS2-btza",
        "colab": {
          "base_uri": "https://localhost:8080/"
        },
        "outputId": "de979234-43bd-4b99-8f06-4f4c460be3df"
      },
      "execution_count": 49,
      "outputs": [
        {
          "output_type": "execute_result",
          "data": {
            "text/plain": [
              "True"
            ]
          },
          "metadata": {},
          "execution_count": 49
        }
      ]
    },
    {
      "cell_type": "code",
      "source": [
        "8 ==9"
      ],
      "metadata": {
        "colab": {
          "base_uri": "https://localhost:8080/"
        },
        "id": "BnxEbCQckVDM",
        "outputId": "f9ee5abc-6dbf-48a2-ea68-4e3b52da60cd"
      },
      "execution_count": 50,
      "outputs": [
        {
          "output_type": "execute_result",
          "data": {
            "text/plain": [
              "False"
            ]
          },
          "metadata": {},
          "execution_count": 50
        }
      ]
    },
    {
      "cell_type": "code",
      "source": [
        "8 != 9"
      ],
      "metadata": {
        "colab": {
          "base_uri": "https://localhost:8080/"
        },
        "id": "OCKLkVHVkXCh",
        "outputId": "1c88a054-0615-4b92-f29e-85eb20181efb"
      },
      "execution_count": 51,
      "outputs": [
        {
          "output_type": "execute_result",
          "data": {
            "text/plain": [
              "True"
            ]
          },
          "metadata": {},
          "execution_count": 51
        }
      ]
    },
    {
      "cell_type": "code",
      "source": [
        "(7>6)|(2>3)"
      ],
      "metadata": {
        "colab": {
          "base_uri": "https://localhost:8080/"
        },
        "id": "O_dga0SGkbZK",
        "outputId": "2a2ce1ec-0fcb-4c9d-d5ea-0b9630f60646"
      },
      "execution_count": 52,
      "outputs": [
        {
          "output_type": "execute_result",
          "data": {
            "text/plain": [
              "True"
            ]
          },
          "metadata": {},
          "execution_count": 52
        }
      ]
    },
    {
      "cell_type": "code",
      "source": [
        "i = 0\n",
        "while i < 10:\n",
        "  print(i)\n",
        "  i = i + 1"
      ],
      "metadata": {
        "colab": {
          "base_uri": "https://localhost:8080/"
        },
        "id": "8VgR4l90lShH",
        "outputId": "4a658905-e1c3-4352-b384-e73da8df92dc"
      },
      "execution_count": 53,
      "outputs": [
        {
          "output_type": "stream",
          "name": "stdout",
          "text": [
            "0\n",
            "1\n",
            "2\n",
            "3\n",
            "4\n",
            "5\n",
            "6\n",
            "7\n",
            "8\n",
            "9\n"
          ]
        }
      ]
    },
    {
      "cell_type": "code",
      "source": [
        "i = 0 \n",
        "while i < 10 :\n",
        "  print (i)\n",
        "  i = i + 1\n",
        "print (\"Good Job\")"
      ],
      "metadata": {
        "colab": {
          "base_uri": "https://localhost:8080/"
        },
        "id": "fMPdjGsPmb_s",
        "outputId": "60dea16c-596e-43e4-b6fc-64be05947661"
      },
      "execution_count": 54,
      "outputs": [
        {
          "output_type": "stream",
          "name": "stdout",
          "text": [
            "0\n",
            "1\n",
            "2\n",
            "3\n",
            "4\n",
            "5\n",
            "6\n",
            "7\n",
            "8\n",
            "9\n",
            "Good Job\n"
          ]
        }
      ]
    },
    {
      "cell_type": "code",
      "source": [
        "i = 0 \n",
        "while i < 10 :\n",
        "  print (i)\n",
        "  i = i + 1\n",
        "  print (\"Good Job\")"
      ],
      "metadata": {
        "colab": {
          "base_uri": "https://localhost:8080/"
        },
        "id": "Sa3zxyGDnYAG",
        "outputId": "5247f4c0-630a-4654-e95b-16cba12328a5"
      },
      "execution_count": 55,
      "outputs": [
        {
          "output_type": "stream",
          "name": "stdout",
          "text": [
            "0\n",
            "Good Job\n",
            "1\n",
            "Good Job\n",
            "2\n",
            "Good Job\n",
            "3\n",
            "Good Job\n",
            "4\n",
            "Good Job\n",
            "5\n",
            "Good Job\n",
            "6\n",
            "Good Job\n",
            "7\n",
            "Good Job\n",
            "8\n",
            "Good Job\n",
            "9\n",
            "Good Job\n"
          ]
        }
      ]
    },
    {
      "cell_type": "code",
      "source": [
        "list (range(10))"
      ],
      "metadata": {
        "colab": {
          "base_uri": "https://localhost:8080/"
        },
        "id": "Zrtku5BFncOR",
        "outputId": "4813544a-6abc-426a-b8b4-649a5572b99c"
      },
      "execution_count": 56,
      "outputs": [
        {
          "output_type": "execute_result",
          "data": {
            "text/plain": [
              "[0, 1, 2, 3, 4, 5, 6, 7, 8, 9]"
            ]
          },
          "metadata": {},
          "execution_count": 56
        }
      ]
    },
    {
      "cell_type": "code",
      "source": [
        "for i in range(10):\n",
        "  print (i)"
      ],
      "metadata": {
        "colab": {
          "base_uri": "https://localhost:8080/"
        },
        "id": "9I8CgP9IpgXt",
        "outputId": "ab26a756-b32c-4bf4-f375-909420631e96"
      },
      "execution_count": 57,
      "outputs": [
        {
          "output_type": "stream",
          "name": "stdout",
          "text": [
            "0\n",
            "1\n",
            "2\n",
            "3\n",
            "4\n",
            "5\n",
            "6\n",
            "7\n",
            "8\n",
            "9\n"
          ]
        }
      ]
    },
    {
      "cell_type": "code",
      "source": [
        "list1 = [\"Brad\", 10, True]\n",
        "for i in list1:\n",
        "  print (i)"
      ],
      "metadata": {
        "colab": {
          "base_uri": "https://localhost:8080/"
        },
        "id": "gAx9x9ntp6OP",
        "outputId": "4f8476ed-af18-4de5-880d-ac040ee2228a"
      },
      "execution_count": 58,
      "outputs": [
        {
          "output_type": "stream",
          "name": "stdout",
          "text": [
            "Brad\n",
            "10\n",
            "True\n"
          ]
        }
      ]
    },
    {
      "cell_type": "code",
      "source": [
        "import numpy as np \n",
        "from numpy.random import randn"
      ],
      "metadata": {
        "id": "zjQ0W56cqzR8"
      },
      "execution_count": 59,
      "outputs": []
    },
    {
      "cell_type": "code",
      "source": [
        "x = randn()\n",
        "x"
      ],
      "metadata": {
        "colab": {
          "base_uri": "https://localhost:8080/"
        },
        "id": "mwfAGQPZrtjb",
        "outputId": "2e0b57fe-de89-47cc-8ff9-e201b461a2a0"
      },
      "execution_count": 60,
      "outputs": [
        {
          "output_type": "execute_result",
          "data": {
            "text/plain": [
              "0.5518650279318655"
            ]
          },
          "metadata": {},
          "execution_count": 60
        }
      ]
    },
    {
      "cell_type": "code",
      "source": [
        "x = randn()\n",
        "x"
      ],
      "metadata": {
        "colab": {
          "base_uri": "https://localhost:8080/"
        },
        "id": "CjiTRKmxskfH",
        "outputId": "c97e1e88-65e1-472b-93c1-be79488cb204"
      },
      "execution_count": 61,
      "outputs": [
        {
          "output_type": "execute_result",
          "data": {
            "text/plain": [
              "-2.01001220173688"
            ]
          },
          "metadata": {},
          "execution_count": 61
        }
      ]
    },
    {
      "cell_type": "code",
      "source": [
        "x = randn()\n",
        "if x > 1:\n",
        "  result = \"Greater than 1\"\n",
        "print (x)\n",
        "print(result)"
      ],
      "metadata": {
        "colab": {
          "base_uri": "https://localhost:8080/"
        },
        "id": "H5UrTyUxsqD8",
        "outputId": "e1be592c-bcd5-4f3c-c212-1869378283d9"
      },
      "execution_count": 62,
      "outputs": [
        {
          "output_type": "stream",
          "name": "stdout",
          "text": [
            "2.1244268786405778\n",
            "Greater than 1\n"
          ]
        }
      ]
    },
    {
      "cell_type": "code",
      "source": [
        "result = None\n",
        "x = randn()\n",
        "if x > 1:\n",
        "  result = \"Greater than 1\"\n",
        "else :\n",
        "  result = \"less than 1\"\n",
        "print (x)\n",
        "print (result)"
      ],
      "metadata": {
        "colab": {
          "base_uri": "https://localhost:8080/"
        },
        "id": "tUp6MQz5s4z2",
        "outputId": "dd47fb74-6c0f-499a-f7bb-f60eccede737"
      },
      "execution_count": 63,
      "outputs": [
        {
          "output_type": "stream",
          "name": "stdout",
          "text": [
            "-0.8129264479640004\n",
            "less than 1\n"
          ]
        }
      ]
    },
    {
      "cell_type": "code",
      "source": [
        "result = None\n",
        "x = randn()\n",
        "if x > 1:\n",
        "  result = \"Greater than 1\"\n",
        "elif x >= 1 :\n",
        "  result = \"Between -1 and 1\"\n",
        "else :\n",
        "  result = \"Less tham -1\"\n",
        "print (x)\n",
        "print(result)"
      ],
      "metadata": {
        "colab": {
          "base_uri": "https://localhost:8080/"
        },
        "id": "ZDlu3QIRur9M",
        "outputId": "7acecd27-cdcd-44ed-b1e4-969f30e55bf8"
      },
      "execution_count": 64,
      "outputs": [
        {
          "output_type": "stream",
          "name": "stdout",
          "text": [
            "0.3492004855187589\n",
            "Less tham -1\n"
          ]
        }
      ]
    },
    {
      "cell_type": "code",
      "source": [
        "result = None\n",
        "x = randn()\n",
        "if x > 1:\n",
        "  result = \"Greater than 1\"\n",
        "elif x >= -1:\n",
        "  result = \"Between -1 and 1\"\n",
        "else :\n",
        "  result = \"Less than 1\"\n",
        "print (\"Hello Python\")\n",
        "print (x)\n",
        "print (result)"
      ],
      "metadata": {
        "colab": {
          "base_uri": "https://localhost:8080/"
        },
        "id": "X43JudJdwuv7",
        "outputId": "ca3da428-38b1-4048-a3f9-75db7875a2af"
      },
      "execution_count": 65,
      "outputs": [
        {
          "output_type": "stream",
          "name": "stdout",
          "text": [
            "Hello Python\n",
            "-1.0248420815971162\n",
            "Less than 1\n"
          ]
        }
      ]
    },
    {
      "cell_type": "code",
      "source": [
        "result = None\n",
        "x = randn()\n",
        "if x > 1:\n",
        "  result = \"Greater than 1\"\n",
        "elif x >= -1:\n",
        "  result = \"Between -1 and 1\"\n",
        "else :\n",
        "  result = \"Less than 1\"\n",
        "  print (\"Hello Python\")\n",
        "print (x)\n",
        "print (result)"
      ],
      "metadata": {
        "colab": {
          "base_uri": "https://localhost:8080/"
        },
        "id": "2iFgmYUUymKz",
        "outputId": "97ba3dfd-8a89-4811-eacf-7f041816d7fa"
      },
      "execution_count": 66,
      "outputs": [
        {
          "output_type": "stream",
          "name": "stdout",
          "text": [
            "-0.010065498936996639\n",
            "Between -1 and 1\n"
          ]
        }
      ]
    },
    {
      "cell_type": "code",
      "source": [
        "list2 = [\"Brad\", 20, 5, True, 5.6]"
      ],
      "metadata": {
        "id": "iymF6iZ1yuGA"
      },
      "execution_count": 67,
      "outputs": []
    },
    {
      "cell_type": "code",
      "source": [
        "list2[1]"
      ],
      "metadata": {
        "colab": {
          "base_uri": "https://localhost:8080/"
        },
        "id": "rKBoyzC8zn05",
        "outputId": "673ee5bb-4161-418e-e888-e3eaf56ccf9d"
      },
      "execution_count": 68,
      "outputs": [
        {
          "output_type": "execute_result",
          "data": {
            "text/plain": [
              "20"
            ]
          },
          "metadata": {},
          "execution_count": 68
        }
      ]
    },
    {
      "cell_type": "code",
      "source": [
        "list3 = ['hello', 6, list2]"
      ],
      "metadata": {
        "id": "SLWu7CPM0ISw"
      },
      "execution_count": 69,
      "outputs": []
    },
    {
      "cell_type": "code",
      "source": [
        "list3"
      ],
      "metadata": {
        "colab": {
          "base_uri": "https://localhost:8080/"
        },
        "id": "zT23B9cE0WJZ",
        "outputId": "443caf41-f5b4-4c8c-f83b-4e0f6781e607"
      },
      "execution_count": 70,
      "outputs": [
        {
          "output_type": "execute_result",
          "data": {
            "text/plain": [
              "['hello', 6, ['Brad', 20, 5, True, 5.6]]"
            ]
          },
          "metadata": {},
          "execution_count": 70
        }
      ]
    },
    {
      "cell_type": "code",
      "source": [
        "list3[-1]"
      ],
      "metadata": {
        "colab": {
          "base_uri": "https://localhost:8080/"
        },
        "id": "cqyaiCdI0ase",
        "outputId": "5565add5-72ec-4fcf-9f05-4ae38f57c968"
      },
      "execution_count": 71,
      "outputs": [
        {
          "output_type": "execute_result",
          "data": {
            "text/plain": [
              "['Brad', 20, 5, True, 5.6]"
            ]
          },
          "metadata": {},
          "execution_count": 71
        }
      ]
    },
    {
      "cell_type": "code",
      "source": [
        "list3[1]=7"
      ],
      "metadata": {
        "id": "WMqviYDT0d6Q"
      },
      "execution_count": 72,
      "outputs": []
    },
    {
      "cell_type": "code",
      "source": [
        "list3"
      ],
      "metadata": {
        "colab": {
          "base_uri": "https://localhost:8080/"
        },
        "id": "lG8yllsG0pxi",
        "outputId": "7fcd19df-ff0a-4e89-8475-068a7f532138"
      },
      "execution_count": 73,
      "outputs": [
        {
          "output_type": "execute_result",
          "data": {
            "text/plain": [
              "['hello', 7, ['Brad', 20, 5, True, 5.6]]"
            ]
          },
          "metadata": {},
          "execution_count": 73
        }
      ]
    },
    {
      "cell_type": "code",
      "source": [
        "letters = ['a','b','c','d','e','f','g','h','i','j']"
      ],
      "metadata": {
        "id": "4s4orNMs0rEo"
      },
      "execution_count": 74,
      "outputs": []
    },
    {
      "cell_type": "code",
      "source": [
        "letters[1:5]"
      ],
      "metadata": {
        "colab": {
          "base_uri": "https://localhost:8080/"
        },
        "id": "zRs7TleG2L9C",
        "outputId": "d9a9ccc4-ff04-49dd-fb32-7f24627c3c7e"
      },
      "execution_count": 75,
      "outputs": [
        {
          "output_type": "execute_result",
          "data": {
            "text/plain": [
              "['b', 'c', 'd', 'e']"
            ]
          },
          "metadata": {},
          "execution_count": 75
        }
      ]
    },
    {
      "cell_type": "code",
      "source": [
        "letters[1:6]"
      ],
      "metadata": {
        "colab": {
          "base_uri": "https://localhost:8080/"
        },
        "id": "TcKsH-CM2eoP",
        "outputId": "b66fc062-e547-4b8c-a4fe-7b95b4965ca4"
      },
      "execution_count": 76,
      "outputs": [
        {
          "output_type": "execute_result",
          "data": {
            "text/plain": [
              "['b', 'c', 'd', 'e', 'f']"
            ]
          },
          "metadata": {},
          "execution_count": 76
        }
      ]
    },
    {
      "cell_type": "code",
      "source": [
        "letters[-1]"
      ],
      "metadata": {
        "colab": {
          "base_uri": "https://localhost:8080/",
          "height": 35
        },
        "id": "cPDaQ6mn2lJq",
        "outputId": "27edd7dd-7504-4a1c-e7bf-be2119baf140"
      },
      "execution_count": 77,
      "outputs": [
        {
          "output_type": "execute_result",
          "data": {
            "text/plain": [
              "'j'"
            ],
            "application/vnd.google.colaboratory.intrinsic+json": {
              "type": "string"
            }
          },
          "metadata": {},
          "execution_count": 77
        }
      ]
    },
    {
      "cell_type": "code",
      "source": [
        "letters [0:8:2]"
      ],
      "metadata": {
        "colab": {
          "base_uri": "https://localhost:8080/"
        },
        "id": "dWD66Uyg3Es4",
        "outputId": "86c4f108-a62a-4288-b488-36c35248ac74"
      },
      "execution_count": 78,
      "outputs": [
        {
          "output_type": "execute_result",
          "data": {
            "text/plain": [
              "['a', 'c', 'e', 'g']"
            ]
          },
          "metadata": {},
          "execution_count": 78
        }
      ]
    },
    {
      "cell_type": "code",
      "source": [
        "letters [1:8:2]"
      ],
      "metadata": {
        "colab": {
          "base_uri": "https://localhost:8080/"
        },
        "id": "n5Ij_zYc4n-p",
        "outputId": "4b8f939f-219f-4455-ca42-c85b6344c8b1"
      },
      "execution_count": 79,
      "outputs": [
        {
          "output_type": "execute_result",
          "data": {
            "text/plain": [
              "['b', 'd', 'f', 'h']"
            ]
          },
          "metadata": {},
          "execution_count": 79
        }
      ]
    },
    {
      "cell_type": "code",
      "source": [
        "letters [1::2]"
      ],
      "metadata": {
        "colab": {
          "base_uri": "https://localhost:8080/"
        },
        "id": "SThl_hx947Vn",
        "outputId": "df2fbf55-4994-4159-92be-163c54b46f2c"
      },
      "execution_count": 80,
      "outputs": [
        {
          "output_type": "execute_result",
          "data": {
            "text/plain": [
              "['b', 'd', 'f', 'h', 'j']"
            ]
          },
          "metadata": {},
          "execution_count": 80
        }
      ]
    },
    {
      "cell_type": "code",
      "source": [
        "letters [-9:-1:2]"
      ],
      "metadata": {
        "colab": {
          "base_uri": "https://localhost:8080/"
        },
        "id": "4CUCukjY4_p5",
        "outputId": "f3349e1f-cffa-44db-e301-4cd986a0c18e"
      },
      "execution_count": 81,
      "outputs": [
        {
          "output_type": "execute_result",
          "data": {
            "text/plain": [
              "['b', 'd', 'f', 'h']"
            ]
          },
          "metadata": {},
          "execution_count": 81
        }
      ]
    },
    {
      "cell_type": "code",
      "source": [
        "letters [::3]"
      ],
      "metadata": {
        "colab": {
          "base_uri": "https://localhost:8080/"
        },
        "id": "6PaCyJPZ5H1Q",
        "outputId": "5d95c988-de78-4fb4-a06d-2cd508dce2f9"
      },
      "execution_count": 82,
      "outputs": [
        {
          "output_type": "execute_result",
          "data": {
            "text/plain": [
              "['a', 'd', 'g', 'j']"
            ]
          },
          "metadata": {},
          "execution_count": 82
        }
      ]
    },
    {
      "cell_type": "code",
      "source": [
        "letters [7::]"
      ],
      "metadata": {
        "colab": {
          "base_uri": "https://localhost:8080/"
        },
        "id": "0QpIGiI55KsV",
        "outputId": "0d445b61-8a9d-4125-b211-d4b9994445c6"
      },
      "execution_count": 83,
      "outputs": [
        {
          "output_type": "execute_result",
          "data": {
            "text/plain": [
              "['h', 'i', 'j']"
            ]
          },
          "metadata": {},
          "execution_count": 83
        }
      ]
    },
    {
      "cell_type": "code",
      "source": [
        "tuple1 = (56,58,'abs')"
      ],
      "metadata": {
        "id": "THwevISE5NLe"
      },
      "execution_count": 84,
      "outputs": []
    },
    {
      "cell_type": "code",
      "source": [
        "tuple1[1]"
      ],
      "metadata": {
        "colab": {
          "base_uri": "https://localhost:8080/"
        },
        "id": "hPNgDzqDxLZ_",
        "outputId": "e1dae781-5d13-4418-bc82-d63c556bc003"
      },
      "execution_count": 86,
      "outputs": [
        {
          "output_type": "execute_result",
          "data": {
            "text/plain": [
              "58"
            ]
          },
          "metadata": {},
          "execution_count": 86
        }
      ]
    },
    {
      "cell_type": "code",
      "source": [
        "list5 = [1,'brad',30.6,True]"
      ],
      "metadata": {
        "colab": {
          "base_uri": "https://localhost:8080/",
          "height": 165
        },
        "id": "R0NhcSoG0HW8",
        "outputId": "e4e973c1-b233-4953-ed18-0d0ddeeb4463"
      },
      "execution_count": 89,
      "outputs": [
        {
          "output_type": "error",
          "ename": "NameError",
          "evalue": "ignored",
          "traceback": [
            "\u001b[0;31m---------------------------------------------------------------------------\u001b[0m",
            "\u001b[0;31mNameError\u001b[0m                                 Traceback (most recent call last)",
            "\u001b[0;32m<ipython-input-89-aadc488276c3>\u001b[0m in \u001b[0;36m<module>\u001b[0;34m\u001b[0m\n\u001b[0;32m----> 1\u001b[0;31m \u001b[0mlist5\u001b[0m \u001b[0;34m=\u001b[0m \u001b[0;34m[\u001b[0m\u001b[0;36m1\u001b[0m\u001b[0;34m,\u001b[0m\u001b[0;34m'brad'\u001b[0m\u001b[0;34m,\u001b[0m\u001b[0;36m30.6\u001b[0m\u001b[0;34m,\u001b[0m\u001b[0mtrue\u001b[0m\u001b[0;34m]\u001b[0m\u001b[0;34m\u001b[0m\u001b[0;34m\u001b[0m\u001b[0m\n\u001b[0m",
            "\u001b[0;31mNameError\u001b[0m: name 'true' is not defined"
          ]
        }
      ]
    },
    {
      "cell_type": "code",
      "source": [],
      "metadata": {
        "id": "TcKZEmBd0Q2z"
      },
      "execution_count": null,
      "outputs": []
    }
  ]
}